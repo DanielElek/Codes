{
 "cells": [
  {
   "cell_type": "code",
   "execution_count": 1,
   "metadata": {},
   "outputs": [],
   "source": [
    "from sim_class import Simulation\n",
    "import json\n",
    "\n",
    "# Initialize the simulation with a specified number of agents\n",
    "sim = Simulation(num_agents=1)"
   ]
  },
  {
   "cell_type": "code",
   "execution_count": 2,
   "metadata": {},
   "outputs": [],
   "source": [
    "# open a file to record the pipette position\n",
    "pipette_state = open('pipette_state.txt', 'a')\n",
    "\n",
    "# create empty directory for whole state\n",
    "state_dict = {}\n",
    "\n",
    "# loop through directions for the robot, and write pipette positions and whole state to files\n",
    "for directions, description in [([1, 1, 1, 0], 'front_right_top'),\n",
    "                   ([-1, 0, 0, 0], 'back_right_top'),\n",
    "                   ([0, -1, 0, 0], 'back_left_top'),\n",
    "                   ([1, 0, 0, 0], 'front_left_top'),\n",
    "                   ([0, 0, -1, 0], 'front_left_bottom'),\n",
    "                   ([0, 1, 0, 0], 'front_right_bottom'),\n",
    "                   ([-1, 0, 0, 0], 'back_right_bottom'),\n",
    "                   ([0, -1, 0, 0], 'back_left_bottom')]:\n",
    "    # move the joints in the given directions\n",
    "    state = sim.run([directions], num_steps=200)\n",
    "\n",
    "    # write the description of a corner, and the position of pipette to file\n",
    "    pipette_state.write(description)\n",
    "    pipette_state.write('\\n') \n",
    "    pipette_state.write(str(state['robotId_1']['pipette_position']))\n",
    "    pipette_state.write('\\n\\n')\n",
    "\n",
    "    # add full state in the corner to the dictionary\n",
    "    state_dict[description] = state\n",
    "\n",
    "# write the dictionary with all the states to file\n",
    "with open('state.json', 'w') as full_state:\n",
    "    json.dump(state_dict, full_state, indent=4)\n",
    "\n",
    "# close file with pipette coordinates\n",
    "pipette_state.close()"
   ]
  },
  {
   "cell_type": "code",
   "execution_count": 3,
   "metadata": {},
   "outputs": [
    {
     "data": {
      "text/plain": [
       "{'robotId_2': {'joint_states': {'joint_0': {'position': 0.0,\n",
       "    'velocity': 0.0,\n",
       "    'reaction_forces': (0.0, 0.0, 0.0, 0.0, 0.0, 0.0),\n",
       "    'motor_torque': 0.0},\n",
       "   'joint_1': {'position': 0.0,\n",
       "    'velocity': 0.0,\n",
       "    'reaction_forces': (0.0, 0.0, 0.0, 0.0, 0.0, 0.0),\n",
       "    'motor_torque': 0.0},\n",
       "   'joint_2': {'position': 0.0,\n",
       "    'velocity': 0.0,\n",
       "    'reaction_forces': (0.0, 0.0, 0.0, 0.0, 0.0, 0.0),\n",
       "    'motor_torque': 0.0}},\n",
       "  'robot_position': [0.0, 0.0, 0.03],\n",
       "  'pipette_position': [0.073, 0.0895, 0.1195]}}"
      ]
     },
     "execution_count": 3,
     "metadata": {},
     "output_type": "execute_result"
    }
   ],
   "source": [
    "# Reset the simulation\n",
    "sim.reset(num_agents=1)"
   ]
  }
 ],
 "metadata": {
  "kernelspec": {
   "display_name": "task10",
   "language": "python",
   "name": "python3"
  },
  "language_info": {
   "codemirror_mode": {
    "name": "ipython",
    "version": 3
   },
   "file_extension": ".py",
   "mimetype": "text/x-python",
   "name": "python",
   "nbconvert_exporter": "python",
   "pygments_lexer": "ipython3",
   "version": "3.9.18"
  }
 },
 "nbformat": 4,
 "nbformat_minor": 2
}
