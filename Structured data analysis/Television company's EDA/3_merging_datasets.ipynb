{
 "cells": [
  {
   "cell_type": "code",
   "execution_count": 86,
   "metadata": {},
   "outputs": [],
   "source": [
    "import pandas as pd\n",
    "\n",
    "# I import the data\n",
    "ratings_data = pd.read_csv('banijay_op1data_ratings_processed.csv', compression='zip')\n",
    "content_data = pd.read_csv('banijay_op1data_content_processed.csv', compression='zip')"
   ]
  },
  {
   "cell_type": "code",
   "execution_count": 89,
   "metadata": {},
   "outputs": [],
   "source": [
    "# I drop the unnamed columns from the content data\n",
    "content_data.drop('Unnamed: 0', inplace=True, axis=1)"
   ]
  },
  {
   "cell_type": "code",
   "execution_count": 90,
   "metadata": {},
   "outputs": [],
   "source": [
    "# I drop the unnamed columns from the ratings data\n",
    "ratings_data.drop('Unnamed: 0', inplace=True, axis=1)"
   ]
  },
  {
   "cell_type": "code",
   "execution_count": 91,
   "metadata": {},
   "outputs": [],
   "source": [
    "# I turn the time data into datetime format\n",
    "content_data['date_time_start'] = pd.to_datetime(content_data['date_time_start'])\n",
    "content_data['date_time_end'] = pd.to_datetime(content_data['date_time_end'])\n",
    "ratings_data['date_time'] = pd.to_datetime(ratings_data['date_time'])\n",
    "\n",
    "# I sort the data by time\n",
    "content_data.sort_values(by=\"date_time_start\", inplace=True)\n",
    "ratings_data.sort_values(by=\"date_time\", inplace=True)"
   ]
  },
  {
   "cell_type": "code",
   "execution_count": 92,
   "metadata": {},
   "outputs": [],
   "source": [
    "# I check if there are any ratings at times that are not are in the content data and put them in the drop_list variable\n",
    "drop_list = []\n",
    "i = 0\n",
    "for value in ratings_data['date_time']:\n",
    "    if value < content_data['date_time_start'][0] or value > content_data['date_time_end'][2983]:\n",
    "        drop_list.append(i)\n",
    "    i+=1"
   ]
  },
  {
   "cell_type": "code",
   "execution_count": 93,
   "metadata": {},
   "outputs": [],
   "source": [
    "# I remove the times from the ratings data that were collected in the drop_list variable\n",
    "ratings_data.drop(index= drop_list, inplace=True)"
   ]
  },
  {
   "cell_type": "code",
   "execution_count": 94,
   "metadata": {},
   "outputs": [],
   "source": [
    "# I merge the two datasets\n",
    "merged = pd.merge_asof(ratings_data,content_data,  left_on=\"date_time\",right_on=\"date_time_start\", direction=\"backward\")"
   ]
  },
  {
   "cell_type": "code",
   "execution_count": 95,
   "metadata": {},
   "outputs": [
    {
     "data": {
      "text/plain": [
       "496    2020-01-06 22:38:09\n",
       "497    2020-01-06 22:48:11\n",
       "498    2020-01-06 23:07:23\n",
       "596    2020-01-07 22:26:26\n",
       "597    2020-01-07 22:37:31\n",
       "               ...        \n",
       "1558   2022-09-16 22:35:04\n",
       "1559   2022-09-16 22:47:57\n",
       "1560   2022-09-16 22:54:30\n",
       "1561   2022-09-16 23:07:04\n",
       "1562   2022-09-16 23:20:16\n",
       "Name: date_time_end, Length: 2984, dtype: datetime64[ns]"
      ]
     },
     "execution_count": 95,
     "metadata": {},
     "output_type": "execute_result"
    }
   ],
   "source": [
    "# I print out the end time to check if they are correct\n",
    "print(content_data['date_time_end'])"
   ]
  },
  {
   "cell_type": "code",
   "execution_count": 96,
   "metadata": {},
   "outputs": [
    {
     "data": {
      "text/html": [
       "<div>\n",
       "<style scoped>\n",
       "    .dataframe tbody tr th:only-of-type {\n",
       "        vertical-align: middle;\n",
       "    }\n",
       "\n",
       "    .dataframe tbody tr th {\n",
       "        vertical-align: top;\n",
       "    }\n",
       "\n",
       "    .dataframe thead th {\n",
       "        text-align: right;\n",
       "    }\n",
       "</style>\n",
       "<table border=\"1\" class=\"dataframe\">\n",
       "  <thead>\n",
       "    <tr style=\"text-align: right;\">\n",
       "      <th></th>\n",
       "      <th>date_time</th>\n",
       "      <th>date_time_start</th>\n",
       "      <th>date_time_end</th>\n",
       "    </tr>\n",
       "  </thead>\n",
       "  <tbody>\n",
       "    <tr>\n",
       "      <th>0</th>\n",
       "      <td>2021-02-01 22:21:00</td>\n",
       "      <td>2021-02-01 22:20:11</td>\n",
       "      <td>2021-02-01 22:41:32</td>\n",
       "    </tr>\n",
       "    <tr>\n",
       "      <th>1</th>\n",
       "      <td>2021-02-01 22:21:00</td>\n",
       "      <td>2021-02-01 22:20:11</td>\n",
       "      <td>2021-02-01 22:41:32</td>\n",
       "    </tr>\n",
       "    <tr>\n",
       "      <th>2</th>\n",
       "      <td>2021-02-01 22:21:00</td>\n",
       "      <td>2021-02-01 22:20:11</td>\n",
       "      <td>2021-02-01 22:41:32</td>\n",
       "    </tr>\n",
       "    <tr>\n",
       "      <th>3</th>\n",
       "      <td>2021-02-01 22:21:00</td>\n",
       "      <td>2021-02-01 22:20:11</td>\n",
       "      <td>2021-02-01 22:41:32</td>\n",
       "    </tr>\n",
       "    <tr>\n",
       "      <th>4</th>\n",
       "      <td>2021-02-01 22:21:00</td>\n",
       "      <td>2021-02-01 22:20:11</td>\n",
       "      <td>2021-02-01 22:41:32</td>\n",
       "    </tr>\n",
       "    <tr>\n",
       "      <th>...</th>\n",
       "      <td>...</td>\n",
       "      <td>...</td>\n",
       "      <td>...</td>\n",
       "    </tr>\n",
       "    <tr>\n",
       "      <th>661765</th>\n",
       "      <td>2022-08-31 23:06:00</td>\n",
       "      <td>2022-08-31 22:52:52</td>\n",
       "      <td>2022-08-31 23:06:41</td>\n",
       "    </tr>\n",
       "    <tr>\n",
       "      <th>661766</th>\n",
       "      <td>2022-08-31 23:06:00</td>\n",
       "      <td>2022-08-31 22:52:52</td>\n",
       "      <td>2022-08-31 23:06:41</td>\n",
       "    </tr>\n",
       "    <tr>\n",
       "      <th>661767</th>\n",
       "      <td>2022-08-31 23:06:00</td>\n",
       "      <td>2022-08-31 22:52:52</td>\n",
       "      <td>2022-08-31 23:06:41</td>\n",
       "    </tr>\n",
       "    <tr>\n",
       "      <th>661768</th>\n",
       "      <td>2022-08-31 23:06:00</td>\n",
       "      <td>2022-08-31 22:52:52</td>\n",
       "      <td>2022-08-31 23:06:41</td>\n",
       "    </tr>\n",
       "    <tr>\n",
       "      <th>661769</th>\n",
       "      <td>2022-08-31 23:06:00</td>\n",
       "      <td>2022-08-31 22:52:52</td>\n",
       "      <td>2022-08-31 23:06:41</td>\n",
       "    </tr>\n",
       "  </tbody>\n",
       "</table>\n",
       "<p>661770 rows × 3 columns</p>\n",
       "</div>"
      ],
      "text/plain": [
       "                 date_time     date_time_start       date_time_end\n",
       "0      2021-02-01 22:21:00 2021-02-01 22:20:11 2021-02-01 22:41:32\n",
       "1      2021-02-01 22:21:00 2021-02-01 22:20:11 2021-02-01 22:41:32\n",
       "2      2021-02-01 22:21:00 2021-02-01 22:20:11 2021-02-01 22:41:32\n",
       "3      2021-02-01 22:21:00 2021-02-01 22:20:11 2021-02-01 22:41:32\n",
       "4      2021-02-01 22:21:00 2021-02-01 22:20:11 2021-02-01 22:41:32\n",
       "...                    ...                 ...                 ...\n",
       "661765 2022-08-31 23:06:00 2022-08-31 22:52:52 2022-08-31 23:06:41\n",
       "661766 2022-08-31 23:06:00 2022-08-31 22:52:52 2022-08-31 23:06:41\n",
       "661767 2022-08-31 23:06:00 2022-08-31 22:52:52 2022-08-31 23:06:41\n",
       "661768 2022-08-31 23:06:00 2022-08-31 22:52:52 2022-08-31 23:06:41\n",
       "661769 2022-08-31 23:06:00 2022-08-31 22:52:52 2022-08-31 23:06:41\n",
       "\n",
       "[661770 rows x 3 columns]"
      ]
     },
     "execution_count": 96,
     "metadata": {},
     "output_type": "execute_result"
    }
   ],
   "source": [
    "# I print out the columns to see if they are correct\n",
    "print(merged[['date_time','date_time_start', 'date_time_end']])"
   ]
  },
  {
   "cell_type": "code",
   "execution_count": 97,
   "metadata": {},
   "outputs": [],
   "source": [
    "# I export it\n",
    "merged.to_csv('banijay_op1data_content_ratings2.csv')"
   ]
  }
 ],
 "metadata": {
  "kernelspec": {
   "display_name": "Python 3",
   "language": "python",
   "name": "python3"
  },
  "language_info": {
   "codemirror_mode": {
    "name": "ipython",
    "version": 3
   },
   "file_extension": ".py",
   "mimetype": "text/x-python",
   "name": "python",
   "nbconvert_exporter": "python",
   "pygments_lexer": "ipython3",
   "version": "3.10.10"
  },
  "orig_nbformat": 4,
  "vscode": {
   "interpreter": {
    "hash": "4a7b4ecc5babcfb06c5d2cb60f317505be901be4835e119a6c8bdbed3c809d3b"
   }
  }
 },
 "nbformat": 4,
 "nbformat_minor": 2
}
