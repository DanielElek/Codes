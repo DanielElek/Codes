{
 "cells": [
  {
   "cell_type": "code",
   "execution_count": 1,
   "metadata": {},
   "outputs": [],
   "source": [
    "# I import pandas\n",
    "import pandas as pd\n",
    "\n",
    "# I read in the data\n",
    "df_raw_ratings = pd.read_csv('banijay_op1data_ratings_raw.csv', sep = ';')\n",
    "\n",
    "# I combine the two columns with a space between them\n",
    "df_raw_ratings['date_time'] = df_raw_ratings['Datum'].astype(str) +' '+ df_raw_ratings['Time']\n",
    "\n",
    "# I make sure that it is a datetime object\n",
    "pd.to_datetime(df_raw_ratings['date_time'])\n",
    "\n",
    "# I export the data\n",
    "df_raw_ratings.to_csv('banijay_op1data_ratings_processed.csv', compression='zip')"
   ]
  }
 ],
 "metadata": {
  "kernelspec": {
   "display_name": "Python 3.10.8 64-bit (microsoft store)",
   "language": "python",
   "name": "python3"
  },
  "language_info": {
   "codemirror_mode": {
    "name": "ipython",
    "version": 3
   },
   "file_extension": ".py",
   "mimetype": "text/x-python",
   "name": "python",
   "nbconvert_exporter": "python",
   "pygments_lexer": "ipython3",
   "version": "3.10.10"
  },
  "orig_nbformat": 4,
  "vscode": {
   "interpreter": {
    "hash": "4a7b4ecc5babcfb06c5d2cb60f317505be901be4835e119a6c8bdbed3c809d3b"
   }
  }
 },
 "nbformat": 4,
 "nbformat_minor": 2
}
